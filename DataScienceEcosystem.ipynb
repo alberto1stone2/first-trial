{
 "cells": [
  {
   "cell_type": "markdown",
   "id": "ea42eb6e-1c67-4b8a-ab44-4974873659d7",
   "metadata": {},
   "source": [
    "# Data Science Tools and Ecosystem"
   ]
  },
  {
   "cell_type": "markdown",
   "id": "0e4ab5ce-12b6-4284-b51a-4d5dc7a12f04",
   "metadata": {},
   "source": [
    "In this notebook, Data Science Tools and Ecosystem are summarized."
   ]
  },
  {
   "cell_type": "markdown",
   "id": "bd8a2c9e-8ef4-427a-8523-6f1850e9a8a2",
   "metadata": {},
   "source": [
    "**Objectives:**\n",
    "* List popular languages for Data Science\n",
    "* List some commonly used libariers\n",
    "* List some Data Science tools\n",
    "* work with markdown cells\n",
    "* work with code cells and comments within those cells"
   ]
  },
  {
   "cell_type": "markdown",
   "id": "39b7aeba-fdac-4aec-b725-2dece001d9bb",
   "metadata": {},
   "source": [
    "Some of the popular languages that Data Scientists use are:\n",
    "1. Python\n",
    "2. R\n",
    "3. Julia"
   ]
  },
  {
   "cell_type": "markdown",
   "id": "75b0da0a-e03a-4dc4-9cee-58b7e589c385",
   "metadata": {},
   "source": [
    "Some of the commonly used libraries used by Data Scientists include:\n",
    "1. NumPy\n",
    "2. Pandas\n",
    "3. SciPi\n",
    "4. matplotlib\n",
    "5. Keras"
   ]
  },
  {
   "cell_type": "markdown",
   "id": "272c9677-652a-4fcc-92b9-8738dc4e8484",
   "metadata": {},
   "source": [
    "| Data Science Tools |\n",
    "| --------|\n",
    "| Apache AirFlow |\n",
    "| KubeFlow |\n",
    "| Apache SparkSQL |\n"
   ]
  },
  {
   "cell_type": "markdown",
   "id": "a5a61d14-39d5-4fdc-8d69-36e9551f8580",
   "metadata": {},
   "source": [
    "### Below are a few examples of evaluating arithmetic expressions in Python."
   ]
  },
  {
   "cell_type": "code",
   "execution_count": 6,
   "id": "d1f0603a-9e76-416e-ab88-956058618c39",
   "metadata": {},
   "outputs": [
    {
     "data": {
      "text/plain": [
       "17"
      ]
     },
     "execution_count": 6,
     "metadata": {},
     "output_type": "execute_result"
    }
   ],
   "source": [
    "# This a simple arithmetic expression to mutiply then add integers\n",
    "(3*4)+5"
   ]
  },
  {
   "cell_type": "code",
   "execution_count": 7,
   "id": "14aaa17d-4122-4ddd-9b04-f946ccba7020",
   "metadata": {},
   "outputs": [
    {
     "data": {
      "text/plain": [
       "3.3333333333333335"
      ]
     },
     "execution_count": 7,
     "metadata": {},
     "output_type": "execute_result"
    }
   ],
   "source": [
    "# This will convert 200 minutes to hours by diving by 60\n",
    "200 / 60"
   ]
  },
  {
   "cell_type": "markdown",
   "id": "c4838d4e-eba6-4178-8417-7ed7a98ac0c4",
   "metadata": {},
   "source": [
    "Author\n",
    "-----\n",
    "Norbert Breuer"
   ]
  },
  {
   "cell_type": "code",
   "execution_count": null,
   "id": "ea1d3bbf-3670-4b0c-b879-7c9a25ba0ea6",
   "metadata": {},
   "outputs": [],
   "source": []
  }
 ],
 "metadata": {
  "kernelspec": {
   "display_name": "Python 3 (ipykernel)",
   "language": "python",
   "name": "python3"
  },
  "language_info": {
   "codemirror_mode": {
    "name": "ipython",
    "version": 3
   },
   "file_extension": ".py",
   "mimetype": "text/x-python",
   "name": "python",
   "nbconvert_exporter": "python",
   "pygments_lexer": "ipython3",
   "version": "3.11.7"
  }
 },
 "nbformat": 4,
 "nbformat_minor": 5
}
